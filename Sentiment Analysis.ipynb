{
 "cells": [
  {
   "cell_type": "markdown",
   "id": "b15b132c-a0bc-4e25-a566-4c869f677cdd",
   "metadata": {
    "jp-MarkdownHeadingCollapsed": true
   },
   "source": [
    "## Akhilesh Pant (AU FTCA: MCA)"
   ]
  },
  {
   "cell_type": "markdown",
   "id": "1fa1d394-3050-4781-aefb-44eaf087dc26",
   "metadata": {},
   "source": [
    "## Sentiment Analysis Using:\n",
    "1. VADER (Valence Aware Dictionary and sEntiment Reasoner)\n",
    "2. TextBlob\n",
    "3. Flair (from the flair NLP library by Zalando)"
   ]
  },
  {
   "cell_type": "markdown",
   "id": "c6b84b02-71d7-40f9-a0d2-ed781089c1ee",
   "metadata": {},
   "source": [
    "## How the final sentiment is determined?\n",
    "# The final sentiment score is calculated by combining:\n",
    "1. 25% VADER Score\n",
    "2. 25% TextBlob Score\n",
    "3. 50% Flair Score (adjusted for polarity)\n",
    "# The script then classifies sentiment as Positive, Neutral, or Negative based on the score."
   ]
  },
  {
   "cell_type": "code",
   "execution_count": null,
   "id": "6d4a43bb-65b1-4d95-85e0-effb47edd8b6",
   "metadata": {},
   "outputs": [
    {
     "name": "stdin",
     "output_type": "stream",
     "text": [
      "(1) Text (2) Voice (3) Exit:  2\n"
     ]
    },
    {
     "name": "stdout",
     "output_type": "stream",
     "text": [
      "Listening timed out, please try again.\n"
     ]
    }
   ],
   "source": [
    "import re\n",
    "import pickle\n",
    "import pandas as pd\n",
    "import seaborn as sns\n",
    "import matplotlib.pyplot as plt\n",
    "import speech_recognition as sr\n",
    "from vaderSentiment.vaderSentiment import SentimentIntensityAnalyzer\n",
    "from textblob import TextBlob\n",
    "from flair.models import TextClassifier\n",
    "from flair.data import Sentence\n",
    "import time\n",
    "\n",
    "# Initialize sentiment analyzers\n",
    "sia = SentimentIntensityAnalyzer()\n",
    "flair_classifier = None  # Lazy loading for Flair\n",
    "MODEL_PATH = \"sentiment_model.pkl\"\n",
    "\n",
    "def get_flair_classifier():\n",
    "    global flair_classifier\n",
    "    if flair_classifier is None:\n",
    "        try:\n",
    "            flair_classifier = TextClassifier.load('sentiment')\n",
    "        except Exception as e:\n",
    "            print(f\"Error loading Flair classifier: {e}\")\n",
    "            return None\n",
    "    return flair_classifier\n",
    "\n",
    "def clean_text(text):\n",
    "    return re.sub(r'[^a-zA-Z\\s]', '', text).lower()\n",
    "\n",
    "def get_speech_input():\n",
    "    recognizer = sr.Recognizer()\n",
    "    with sr.Microphone() as source:\n",
    "        recognizer.adjust_for_ambient_noise(source)\n",
    "        try:\n",
    "            audio = recognizer.listen(source, timeout=5, phrase_time_limit=10)\n",
    "            return recognizer.recognize_google(audio)\n",
    "        except sr.UnknownValueError:\n",
    "            print(\"Could not understand audio\")\n",
    "        except sr.RequestError:\n",
    "            print(\"Could not request results, check your internet connection\")\n",
    "        except sr.WaitTimeoutError:\n",
    "            print(\"Listening timed out, please try again.\")\n",
    "    return None\n",
    "\n",
    "def analyze_sentiment(text):\n",
    "    cleaned_text = clean_text(text)\n",
    "    vader_score = sia.polarity_scores(cleaned_text)['compound']\n",
    "    blob_score = TextBlob(cleaned_text).sentiment.polarity\n",
    "    flair_classifier = get_flair_classifier()\n",
    "    flair_score, flair_label = 0, \"NEUTRAL\"\n",
    "    if flair_classifier:\n",
    "        sentence = Sentence(text)\n",
    "        flair_classifier.predict(sentence)\n",
    "        flair_sentiment = sentence.labels[0].to_dict()\n",
    "        flair_score = flair_sentiment['confidence']\n",
    "        flair_label = flair_sentiment['value']\n",
    "    final_score = (0.25 * vader_score + 0.25 * blob_score + 0.50 * (flair_score if flair_label == 'POSITIVE' else -flair_score))\n",
    "    sentiment = \"Positive 😊\" if final_score > 0.05 else \"Negative 😠\" if final_score < -0.05 else \"Neutral 😐\"\n",
    "    return sentiment, final_score\n",
    "\n",
    "def main():\n",
    "    data = []\n",
    "    while True:\n",
    "        choice = input(\"(1) Text (2) Voice (3) Exit: \").strip()\n",
    "        if choice == '1':\n",
    "            text = input(\"Enter text: \")\n",
    "        elif choice == '2':\n",
    "            text = get_speech_input()\n",
    "            if not text:\n",
    "                continue\n",
    "        elif choice == '3':\n",
    "            break\n",
    "        else:\n",
    "            print(\"Invalid choice. Please try again.\")\n",
    "            continue\n",
    "\n",
    "        start_time = time.time()\n",
    "        sentiment, final_score = analyze_sentiment(text)\n",
    "        data.append([text, sentiment, final_score])\n",
    "        print(f\"Text: {text}\\nSentiment: {sentiment}\\nScore: {final_score:.4f}\\n⏳ Analysis Time: {time.time() - start_time:.2f}s\\n\")\n",
    "\n",
    "    if data:\n",
    "        df = pd.DataFrame(data, columns=[\"Text\", \"Sentiment\", \"Final Score\"])\n",
    "        print(df)\n",
    "\n",
    "if __name__ == \"__main__\":\n",
    "    main()"
   ]
  }
 ],
 "metadata": {
  "kernelspec": {
   "display_name": "Python [conda env:base] *",
   "language": "python",
   "name": "conda-base-py"
  },
  "language_info": {
   "codemirror_mode": {
    "name": "ipython",
    "version": 3
   },
   "file_extension": ".py",
   "mimetype": "text/x-python",
   "name": "python",
   "nbconvert_exporter": "python",
   "pygments_lexer": "ipython3",
   "version": "3.12.7"
  }
 },
 "nbformat": 4,
 "nbformat_minor": 5
}
