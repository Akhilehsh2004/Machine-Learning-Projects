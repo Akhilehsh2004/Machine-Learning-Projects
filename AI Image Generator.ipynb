{
 "cells": [
  {
   "cell_type": "markdown",
   "id": "c60523d1-8a29-4dce-84bc-a6a07d67d56e",
   "metadata": {},
   "source": [
    "## Akhilesh Pant (AU FTCA: MCA)"
   ]
  },
  {
   "cell_type": "markdown",
   "id": "a5246744-95a4-46a1-90c0-46fb92e4b7d3",
   "metadata": {},
   "source": [
    "## AI Image Generator"
   ]
  },
  {
   "cell_type": "code",
   "execution_count": 5,
   "id": "5d553659-ee1a-40eb-8a48-a0ce574fe84e",
   "metadata": {},
   "outputs": [
    {
     "name": "stdin",
     "output_type": "stream",
     "text": [
      "🚀 Enter your prompt:  US President and Indian Prime Minister Meeting In New Delhi.\n"
     ]
    },
    {
     "name": "stdout",
     "output_type": "stream",
     "text": [
      "⏳ Generating Image... \\\n",
      "✅ Image generated successfully and saved as generated_image.png\n"
     ]
    }
   ],
   "source": [
    "import requests\n",
    "import time\n",
    "import threading\n",
    "\n",
    "# Hugging Face API Key (Replace with your own key)\n",
    "api_key = \"hf**********************\"\n",
    "\n",
    "# Hugging Face API URL\n",
    "api_url = \"https://api-inference.huggingface.co/models/stabilityai/stable-diffusion-2-1\"\n",
    "\n",
    "# Headers for authentication\n",
    "headers = {\"Authorization\": f\"Bearer {api_key}\"}\n",
    "\n",
    "# User prompt for image generation\n",
    "prompt = input(\"🚀 Enter your prompt: \").strip()\n",
    "\n",
    "# Validate user input\n",
    "if not prompt:\n",
    "    print(\"\\n🚨 Error: Prompt cannot be empty!\")\n",
    "    exit()\n",
    "\n",
    "# Payload for the request\n",
    "payload = {\"inputs\": prompt}\n",
    "\n",
    "# Use threading.Event() for safer thread stopping\n",
    "image_generated = threading.Event()\n",
    "\n",
    "# Progress indicator function\n",
    "def show_loading():\n",
    "    chars = [\"|\", \"/\", \"-\", \"\\\\\"]\n",
    "    i = 0\n",
    "    while not image_generated.is_set():\n",
    "        print(f\"\\r⏳ Generating Image... {chars[i % len(chars)]}\", end=\"\", flush=True)\n",
    "        i += 1\n",
    "        time.sleep(0.1)  # Faster animation\n",
    "\n",
    "# Start the progress indicator in a separate thread\n",
    "loading_thread = threading.Thread(target=show_loading)\n",
    "loading_thread.start()\n",
    "\n",
    "# Send the request\n",
    "try:\n",
    "    response = requests.post(api_url, headers=headers, json=payload, stream=True)\n",
    "\n",
    "    if response.status_code == 200:\n",
    "        image_path = \"generated_image.png\"\n",
    "        with open(image_path, \"wb\") as file:\n",
    "            for chunk in response.iter_content(chunk_size=8192):\n",
    "                file.write(chunk)\n",
    "\n",
    "        image_generated.set()  # Stop the loading animation\n",
    "        print(f\"\\n✅ Image generated successfully and saved as {image_path}\")\n",
    "\n",
    "    elif response.status_code == 401:\n",
    "        print(\"\\n❌ Authentication Error: Check your API key.\")\n",
    "    elif response.status_code == 429:\n",
    "        # Extract retry wait time if available\n",
    "        wait_time = response.headers.get(\"Retry-After\", \"a few seconds\")\n",
    "        print(f\"\\n⏳ Rate Limit Exceeded. Please retry after {wait_time}.\")\n",
    "    else:\n",
    "        try:\n",
    "            error_message = response.json().get(\"error\", \"Unknown error occurred\")\n",
    "        except ValueError:\n",
    "            error_message = response.text  # In case it's not JSON\n",
    "\n",
    "        print(f\"\\n❌ API Error ({response.status_code}): {error_message}\")\n",
    "\n",
    "except requests.exceptions.RequestException as e:\n",
    "    print(f\"\\n🚨 Network Error: {e}\")\n",
    "\n",
    "finally:\n",
    "    image_generated.set()  # Ensure loading animation stops\n",
    "    loading_thread.join()\n"
   ]
  }
 ],
 "metadata": {
  "kernelspec": {
   "display_name": "Python [conda env:base] *",
   "language": "python",
   "name": "conda-base-py"
  },
  "language_info": {
   "codemirror_mode": {
    "name": "ipython",
    "version": 3
   },
   "file_extension": ".py",
   "mimetype": "text/x-python",
   "name": "python",
   "nbconvert_exporter": "python",
   "pygments_lexer": "ipython3",
   "version": "3.12.7"
  }
 },
 "nbformat": 4,
 "nbformat_minor": 5
}
